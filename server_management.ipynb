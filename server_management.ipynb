{
 "cells": [
  {
   "cell_type": "code",
   "execution_count": 1,
   "metadata": {},
   "outputs": [],
   "source": [
    "from flask import Flask,request,render_template\n",
    "import pickle\n",
    "import numpy as np\n",
    "import flask\n",
    "import tensorflow as tf\n",
    "import cv2\n",
    " "
   ]
  },
  {
   "cell_type": "code",
   "execution_count": 2,
   "metadata": {
    "scrolled": false
   },
   "outputs": [
    {
     "name": "stdout",
     "output_type": "stream",
     "text": [
      " * Serving Flask app \"__main__\" (lazy loading)\n",
      " * Environment: production\n",
      "   WARNING: Do not use the development server in a production environment.\n",
      "   Use a production WSGI server instead.\n",
      " * Debug mode: off\n"
     ]
    },
    {
     "name": "stderr",
     "output_type": "stream",
     "text": [
      "WARNING: Logging before flag parsing goes to stderr.\n",
      "E1018 01:47:30.580323 139827131434752 app.py:1761] Exception on /uploader [POST]\n",
      "Traceback (most recent call last):\n",
      "  File \"/home/abhijit/.local/lib/python3.6/site-packages/flask/app.py\", line 2292, in wsgi_app\n",
      "    response = self.full_dispatch_request()\n",
      "  File \"/home/abhijit/.local/lib/python3.6/site-packages/flask/app.py\", line 1815, in full_dispatch_request\n",
      "    rv = self.handle_user_exception(e)\n",
      "  File \"/home/abhijit/.local/lib/python3.6/site-packages/flask/app.py\", line 1718, in handle_user_exception\n",
      "    reraise(exc_type, exc_value, tb)\n",
      "  File \"/home/abhijit/.local/lib/python3.6/site-packages/flask/_compat.py\", line 35, in reraise\n",
      "    raise value\n",
      "  File \"/home/abhijit/.local/lib/python3.6/site-packages/flask/app.py\", line 1813, in full_dispatch_request\n",
      "    rv = self.dispatch_request()\n",
      "  File \"/home/abhijit/.local/lib/python3.6/site-packages/flask/app.py\", line 1799, in dispatch_request\n",
      "    return self.view_functions[rule.endpoint](**req.view_args)\n",
      "  File \"<ipython-input-2-596392c56dd6>\", line 23, in uploader\n",
      "    image = cv2.cvtColor(image, cv2.COLOR_BGR2RGB)\n",
      "cv2.error: OpenCV(4.2.0) /io/opencv/modules/imgproc/src/color.cpp:182: error: (-215:Assertion failed) !_src.empty() in function 'cvtColor'\n",
      "\n"
     ]
    }
   ],
   "source": [
    "app = Flask(__name__) \n",
    "\n",
    "def sendResponse(responseObj):\n",
    "    response = flask.jsonify(responseObj)\n",
    "    response.headers.add('Access-Control-Allow-Origin', '*')\n",
    "    response.headers.add('Access-Control-Allow-Methods', 'GET')\n",
    "    response.headers.add('Access-Control-Allow-Headers', 'accept,content-type,Origin,X-Requested-With,Content-Type,access_token,Accept,Authorization,source')\n",
    "    response.headers.add('Access-Control-Allow-Credentials', True)\n",
    "    return response\n",
    "\n",
    "model_image=tf.keras.models.load_model('Covid_19_detection.h5')\n",
    "\n",
    "APP_ROOT = os.path.dirname(os.path.abspath(__file__))\n",
    "app.config['IMAGE_UPLOADS'] = os.path.join(APP_ROOT, 'static')\n",
    "\n",
    "@app.route('/upload')  \n",
    "def upload():  \n",
    "    return render_template(\"upload.html\") \n",
    "\n",
    "@app.route('/uploader', methods = ['GET', 'POST'])  \n",
    "def uploader():  \n",
    "    if request.method == 'POST':  \n",
    "        file_path = os.path.join(app.config[\"IMAGE_UPLOADS\"], filename)\n",
    "        file = request.files['file']\n",
    "        #print(file)\n",
    "        image=cv2.imread(file.filename)\n",
    "        image = cv2.cvtColor(image, cv2.COLOR_BGR2RGB)\n",
    "        image = cv2.resize(image, (224, 224))\n",
    "        images_final=np.array(image)/255\n",
    "        pred_1=model.predict(np.array([images_final]))\n",
    "        \n",
    "        return sendResponse(str(np.round(pred_1[0][0])))\n",
    "        \n",
    "        \n",
    "        \n",
    "        #return render_template(\"success.html\", name = f.filename) \n",
    "if __name__=='__main__':\n",
    "    app.run(host='0.0.0.0',port=5000)\n"
   ]
  },
  {
   "cell_type": "code",
   "execution_count": null,
   "metadata": {},
   "outputs": [],
   "source": []
  }
 ],
 "metadata": {
  "kernelspec": {
   "display_name": "Python 3",
   "language": "python",
   "name": "python3"
  },
  "language_info": {
   "codemirror_mode": {
    "name": "ipython",
    "version": 3
   },
   "file_extension": ".py",
   "mimetype": "text/x-python",
   "name": "python",
   "nbconvert_exporter": "python",
   "pygments_lexer": "ipython3",
   "version": "3.6.9"
  }
 },
 "nbformat": 4,
 "nbformat_minor": 2
}
